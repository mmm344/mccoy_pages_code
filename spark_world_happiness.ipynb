{
 "cells": [
  {
   "cell_type": "code",
   "execution_count": 1,
   "id": "3c4e6125",
   "metadata": {},
   "outputs": [
    {
     "data": {
      "text/html": [
       "<style>\n",
       "    .container { width:100% !important; }\n",
       "</style>\n"
      ],
      "text/plain": [
       "<IPython.core.display.HTML object>"
      ]
     },
     "metadata": {},
     "output_type": "display_data"
    }
   ],
   "source": [
    "%%html\n",
    "<style>\n",
    "    .container { width:100% !important; }\n",
    "</style>"
   ]
  },
  {
   "cell_type": "code",
   "execution_count": 2,
   "id": "2c70d5a9",
   "metadata": {},
   "outputs": [],
   "source": [
    "\n",
    "import numpy as np \n",
    "import pandas as pd\n",
    "import seaborn as sns\n",
    "import matplotlib.pyplot as plt\n",
    "import geopandas as gpd\n",
    "\n",
    "import pyspark\n",
    "from pyspark.sql import SparkSession\n",
    "from pyspark.sql.functions import col, when\n",
    "from pyspark.sql.types import StructType, StructField, IntegerType, StringType, DoubleType, FloatType\n",
    "from pyspark.sql.functions import mean, min, max, count, regexp_replace, percentile_approx\n",
    "\n",
    "\n",
    "from pycountry_convert import country_name_to_country_alpha2, country_alpha2_to_continent_code\n",
    "import geopy"
   ]
  },
  {
   "cell_type": "code",
   "execution_count": 3,
   "id": "14556a15",
   "metadata": {},
   "outputs": [],
   "source": [
    "spark = SparkSession.builder.appName(\"World Happiness Report\").getOrCreate()"
   ]
  },
  {
   "cell_type": "markdown",
   "id": "0f5026ef",
   "metadata": {},
   "source": [
    "# Preprocessing/Cleaning\n",
    "As part of the preprocessing step, let's drop some columns that won't be useful for us and fix the names of the headers.\n",
    "____________________________________________________________________________________________"
   ]
  },
  {
   "cell_type": "code",
   "execution_count": 4,
   "id": "2a949d91",
   "metadata": {},
   "outputs": [],
   "source": [
    "df = spark.read.csv(\"2022.csv\", header = True, inferSchema = True)\n",
    "# df = df.drop(col(\"Whisker-high\")).drop(col(\"Whisker-low\"))\n",
    "# df = df.drop(col(\"`Dystopia (1.83) + residual`\")) #careful with spacing - use ` `"
   ]
  },
  {
   "cell_type": "code",
   "execution_count": 5,
   "id": "a8c7a82f",
   "metadata": {},
   "outputs": [
    {
     "data": {
      "text/plain": [
       "[('RANK', 'int'),\n",
       " ('Country', 'string'),\n",
       " ('Happiness score', 'string'),\n",
       " ('Whisker-high', 'string'),\n",
       " ('Whisker-low', 'string'),\n",
       " ('Dystopia (1.83) + residual', 'string'),\n",
       " ('Explained by: GDP per capita', 'string'),\n",
       " ('Explained by: Social support', 'string'),\n",
       " ('Explained by: Healthy life expectancy', 'string'),\n",
       " ('Explained by: Freedom to make life choices', 'string'),\n",
       " ('Explained by: Generosity', 'string'),\n",
       " ('Explained by: Perceptions of corruption', 'string')]"
      ]
     },
     "execution_count": 5,
     "metadata": {},
     "output_type": "execute_result"
    }
   ],
   "source": [
    "#Let's take a look at the columns and their types\n",
    "df.dtypes"
   ]
  },
  {
   "cell_type": "markdown",
   "id": "892ce533",
   "metadata": {},
   "source": [
    "### Notice that we need to convert some string types to float types for machine learning purposes. Let's first rename our columns so they're easier to work with and we don't have to worry about special characters.\n",
    "____________________________________________________________________________________________"
   ]
  },
  {
   "cell_type": "code",
   "execution_count": 6,
   "id": "b69f4360",
   "metadata": {},
   "outputs": [],
   "source": [
    "df = (df.withColumnRenamed(\"RANK\", \"rank\")\n",
    "      .withColumnRenamed(\"Country\", \"country\")\n",
    "      .withColumnRenamed(\"Happiness score\", \"happiness_score\")\n",
    "      .withColumnRenamed(\"Whisker-high\", \"whisker_high\")\n",
    "      .withColumnRenamed(\"Whisker-low\", \"whisker_low\")\n",
    "      .withColumnRenamed(\"Dystopia (1.83) + residual\", \"dystopia_183_residual\")\n",
    "      .withColumnRenamed(\"Explained by: GDP per capita\", \"gdp_per_capita\")\n",
    "      .withColumnRenamed(\"Explained by: Social support\", \"social_support\")\n",
    "      .withColumnRenamed(\"Explained by: Healthy life expectancy\", \"healthy_life_expectancy\")\n",
    "      .withColumnRenamed(\"Explained by: Freedom to make life choices\", \"freedom_to_make_life_choices\")\n",
    "      .withColumnRenamed(\"Explained by: Generosity\", \"generosity\")\n",
    "      .withColumnRenamed(\"Explained by: Perceptions of corruption\", \"perception_of_corruption\")\n",
    "      .withColumn('country', when(col('country') == 'Taiwan Province of China', 'Taiwan').otherwise(col('country')))\n",
    "      .withColumn('country', when(col('country') == 'Hong Kong S.A.R. of China', 'Hong Kong').otherwise(col('country')))\n",
    "     )"
   ]
  },
  {
   "cell_type": "code",
   "execution_count": 7,
   "id": "b2506bdc",
   "metadata": {},
   "outputs": [
    {
     "data": {
      "text/plain": [
       "[('rank', 'int'),\n",
       " ('country', 'string'),\n",
       " ('happiness_score', 'string'),\n",
       " ('whisker_high', 'string'),\n",
       " ('whisker_low', 'string'),\n",
       " ('dystopia_183_residual', 'string'),\n",
       " ('gdp_per_capita', 'string'),\n",
       " ('social_support', 'string'),\n",
       " ('healthy_life_expectancy', 'string'),\n",
       " ('freedom_to_make_life_choices', 'string'),\n",
       " ('generosity', 'string'),\n",
       " ('perception_of_corruption', 'string')]"
      ]
     },
     "execution_count": 7,
     "metadata": {},
     "output_type": "execute_result"
    }
   ],
   "source": [
    "df.dtypes"
   ]
  },
  {
   "cell_type": "markdown",
   "id": "b3151912",
   "metadata": {},
   "source": [
    "### Drop NA values"
   ]
  },
  {
   "cell_type": "code",
   "execution_count": 8,
   "id": "ac48eacf",
   "metadata": {},
   "outputs": [],
   "source": [
    "#Let's see if we have any null values and then drop them if we do. \n",
    "# Drop all rows with any null values\n",
    "df = df.na.drop()"
   ]
  },
  {
   "cell_type": "markdown",
   "id": "ff4031a5",
   "metadata": {},
   "source": [
    "### Let's grab some descriptive statistics for scores."
   ]
  },
  {
   "cell_type": "code",
   "execution_count": 9,
   "id": "b0c70f41",
   "metadata": {},
   "outputs": [],
   "source": [
    "from pyspark.sql.functions import col\n",
    "\n",
    "# Assume that `df` is your PySpark DataFrame\n",
    "\n",
    "# Loop through each column\n",
    "for col_name in df.columns:\n",
    "    # Replace the \",\" with \".\"\n",
    "    df = df.withColumn(col_name, regexp_replace(col_name, \",\", \".\"))"
   ]
  },
  {
   "cell_type": "code",
   "execution_count": 10,
   "id": "0db7b473",
   "metadata": {},
   "outputs": [
    {
     "name": "stdout",
     "output_type": "stream",
     "text": [
      "+-------+------------------+\n",
      "|summary|   happiness_score|\n",
      "+-------+------------------+\n",
      "|  count|               146|\n",
      "|   mean|  5.55357534246575|\n",
      "| stddev|1.0868426072366928|\n",
      "|    min|             2.404|\n",
      "|    max|             7.821|\n",
      "+-------+------------------+\n",
      "\n"
     ]
    }
   ],
   "source": [
    "\n",
    "df.select('happiness_score').describe().show()"
   ]
  },
  {
   "cell_type": "code",
   "execution_count": 11,
   "id": "94065c08",
   "metadata": {},
   "outputs": [
    {
     "name": "stdout",
     "output_type": "stream",
     "text": [
      "+---------------+---------------+---------------+\n",
      "|25th_percentile|50th_percentile|75th_percentile|\n",
      "+---------------+---------------+---------------+\n",
      "|          4.888|          5.559|          6.309|\n",
      "+---------------+---------------+---------------+\n",
      "\n"
     ]
    }
   ],
   "source": [
    "df.select(percentile_approx(\"happiness_score\", 0.25).alias(\"25th_percentile\"),\n",
    "                                percentile_approx(\"happiness_score\", 0.5).alias(\"50th_percentile\"),\n",
    "                                percentile_approx(\"happiness_score\", 0.75).alias(\"75th_percentile\")).show()"
   ]
  },
  {
   "cell_type": "code",
   "execution_count": 12,
   "id": "f64e6758",
   "metadata": {},
   "outputs": [],
   "source": [
    "def percentile_val(df,col,perc):\n",
    "    df = df.select(percentile_approx(col,perc).alias(\"percentile_val\"))\n",
    "    return df"
   ]
  },
  {
   "cell_type": "code",
   "execution_count": 13,
   "id": "688ab082",
   "metadata": {},
   "outputs": [
    {
     "name": "stdout",
     "output_type": "stream",
     "text": [
      "+--------------+\n",
      "|percentile_val|\n",
      "+--------------+\n",
      "|         5.559|\n",
      "+--------------+\n",
      "\n"
     ]
    }
   ],
   "source": [
    "(percentile_val(df, 'happiness_score', 0.5)).show()"
   ]
  },
  {
   "cell_type": "markdown",
   "id": "11172ef5",
   "metadata": {},
   "source": [
    "# Visual Analysis"
   ]
  },
  {
   "cell_type": "code",
   "execution_count": 14,
   "id": "e1ce7fd5",
   "metadata": {},
   "outputs": [],
   "source": [
    "\n",
    "# happiness_df = df.select('country','happiness_score').where(col('happiness_score') > 5.559).toPandas()\n",
    "\n",
    "grouped_df = df.groupBy('country').agg(max('happiness_score').alias(\"desc_score\"))\n",
    "top_10_df = grouped_df.sort('desc_score', ascending=False).limit(10)\n",
    "top_10_df = top_10_df.toPandas()\n"
   ]
  },
  {
   "cell_type": "code",
   "execution_count": 15,
   "id": "70711769",
   "metadata": {},
   "outputs": [
    {
     "data": {
      "image/png": "[encoded data removed]",
      "text/plain": [
       "<Figure size 1080x432 with 1 Axes>"
      ]
     },
     "metadata": {
      "needs_background": "light"
     },
     "output_type": "display_data"
    }
   ],
   "source": [
    "fig, ax = plt.subplots(figsize=(15, 6))\n",
    "ax.bar(top_10_df['country'], top_10_df['desc_score'], color='b')\n",
    "ax.set_title('Top 10 Countries by Happiness Score')\n",
    "ax.set_xlabel('Country')\n",
    "ax.set_ylabel('Happiness Score')\n",
    "plt.show()"
   ]
  },
  {
   "cell_type": "code",
   "execution_count": 16,
   "id": "726432c4",
   "metadata": {},
   "outputs": [],
   "source": [
    "num_df = df.drop('rank').drop('country')\n",
    "\n",
    "for col_name in num_df.columns:\n",
    "    num_df = num_df.withColumn(col_name, col(col_name).cast(FloatType()))"
   ]
  },
  {
   "cell_type": "code",
   "execution_count": 17,
   "id": "6af955d4",
   "metadata": {},
   "outputs": [],
   "source": [
    "num_df=num_df.toPandas()"
   ]
  },
  {
   "cell_type": "code",
   "execution_count": 18,
   "id": "9a7438af",
   "metadata": {},
   "outputs": [],
   "source": [
    "corr_df = num_df.corr()"
   ]
  },
  {
   "cell_type": "code",
   "execution_count": 19,
   "id": "84ed7dbe",
   "metadata": {},
   "outputs": [
    {
     "data": {
      "text/plain": [
       "<AxesSubplot:>"
      ]
     },
     "execution_count": 19,
     "metadata": {},
     "output_type": "execute_result"
    },
    {
     "data": {
      "image/png": "[encoded data removed]",
      "text/plain": [
       "<Figure size 1080x432 with 2 Axes>"
      ]
     },
     "metadata": {
      "needs_background": "light"
     },
     "output_type": "display_data"
    }
   ],
   "source": [
    "fig, ax = plt.subplots(figsize=(15, 6))\n",
    "sns.heatmap(num_df.corr())"
   ]
  },
  {
   "cell_type": "code",
   "execution_count": 20,
   "id": "00e99388",
   "metadata": {},
   "outputs": [
    {
     "data": {
      "text/html": [
       "<div>\n",
       "<style scoped>\n",
       "    .dataframe tbody tr th:only-of-type {\n",
       "        vertical-align: middle;\n",
       "    }\n",
       "\n",
       "    .dataframe tbody tr th {\n",
       "        vertical-align: top;\n",
       "    }\n",
       "\n",
       "    .dataframe thead th {\n",
       "        text-align: right;\n",
       "    }\n",
       "</style>\n",
       "<table border=\"1\" class=\"dataframe\">\n",
       "  <thead>\n",
       "    <tr style=\"text-align: right;\">\n",
       "      <th></th>\n",
       "      <th>happiness_score</th>\n",
       "      <th>whisker_high</th>\n",
       "      <th>whisker_low</th>\n",
       "      <th>dystopia_183_residual</th>\n",
       "      <th>gdp_per_capita</th>\n",
       "      <th>social_support</th>\n",
       "      <th>healthy_life_expectancy</th>\n",
       "      <th>freedom_to_make_life_choices</th>\n",
       "      <th>generosity</th>\n",
       "      <th>perception_of_corruption</th>\n",
       "    </tr>\n",
       "  </thead>\n",
       "  <tbody>\n",
       "    <tr>\n",
       "      <th>happiness_score</th>\n",
       "      <td>1.000000</td>\n",
       "      <td>0.999333</td>\n",
       "      <td>0.999383</td>\n",
       "      <td>NaN</td>\n",
       "      <td>0.763677</td>\n",
       "      <td>0.777889</td>\n",
       "      <td>0.740260</td>\n",
       "      <td>NaN</td>\n",
       "      <td>NaN</td>\n",
       "      <td>NaN</td>\n",
       "    </tr>\n",
       "    <tr>\n",
       "      <th>whisker_high</th>\n",
       "      <td>0.999333</td>\n",
       "      <td>1.000000</td>\n",
       "      <td>0.997434</td>\n",
       "      <td>NaN</td>\n",
       "      <td>0.752104</td>\n",
       "      <td>0.773375</td>\n",
       "      <td>0.727611</td>\n",
       "      <td>NaN</td>\n",
       "      <td>NaN</td>\n",
       "      <td>NaN</td>\n",
       "    </tr>\n",
       "    <tr>\n",
       "      <th>whisker_low</th>\n",
       "      <td>0.999383</td>\n",
       "      <td>0.997434</td>\n",
       "      <td>1.000000</td>\n",
       "      <td>NaN</td>\n",
       "      <td>0.773844</td>\n",
       "      <td>0.781302</td>\n",
       "      <td>0.751530</td>\n",
       "      <td>NaN</td>\n",
       "      <td>NaN</td>\n",
       "      <td>NaN</td>\n",
       "    </tr>\n",
       "    <tr>\n",
       "      <th>dystopia_183_residual</th>\n",
       "      <td>NaN</td>\n",
       "      <td>NaN</td>\n",
       "      <td>NaN</td>\n",
       "      <td>1.0</td>\n",
       "      <td>NaN</td>\n",
       "      <td>NaN</td>\n",
       "      <td>NaN</td>\n",
       "      <td>NaN</td>\n",
       "      <td>NaN</td>\n",
       "      <td>NaN</td>\n",
       "    </tr>\n",
       "    <tr>\n",
       "      <th>gdp_per_capita</th>\n",
       "      <td>0.763677</td>\n",
       "      <td>0.752104</td>\n",
       "      <td>0.773844</td>\n",
       "      <td>NaN</td>\n",
       "      <td>1.000000</td>\n",
       "      <td>0.722421</td>\n",
       "      <td>0.815386</td>\n",
       "      <td>NaN</td>\n",
       "      <td>NaN</td>\n",
       "      <td>NaN</td>\n",
       "    </tr>\n",
       "    <tr>\n",
       "      <th>social_support</th>\n",
       "      <td>0.777889</td>\n",
       "      <td>0.773375</td>\n",
       "      <td>0.781302</td>\n",
       "      <td>NaN</td>\n",
       "      <td>0.722421</td>\n",
       "      <td>1.000000</td>\n",
       "      <td>NaN</td>\n",
       "      <td>NaN</td>\n",
       "      <td>NaN</td>\n",
       "      <td>NaN</td>\n",
       "    </tr>\n",
       "    <tr>\n",
       "      <th>healthy_life_expectancy</th>\n",
       "      <td>0.740260</td>\n",
       "      <td>0.727611</td>\n",
       "      <td>0.751530</td>\n",
       "      <td>NaN</td>\n",
       "      <td>0.815386</td>\n",
       "      <td>NaN</td>\n",
       "      <td>1.000000</td>\n",
       "      <td>NaN</td>\n",
       "      <td>NaN</td>\n",
       "      <td>NaN</td>\n",
       "    </tr>\n",
       "    <tr>\n",
       "      <th>freedom_to_make_life_choices</th>\n",
       "      <td>NaN</td>\n",
       "      <td>NaN</td>\n",
       "      <td>NaN</td>\n",
       "      <td>NaN</td>\n",
       "      <td>NaN</td>\n",
       "      <td>NaN</td>\n",
       "      <td>NaN</td>\n",
       "      <td>1.0</td>\n",
       "      <td>NaN</td>\n",
       "      <td>NaN</td>\n",
       "    </tr>\n",
       "    <tr>\n",
       "      <th>generosity</th>\n",
       "      <td>NaN</td>\n",
       "      <td>NaN</td>\n",
       "      <td>NaN</td>\n",
       "      <td>NaN</td>\n",
       "      <td>NaN</td>\n",
       "      <td>NaN</td>\n",
       "      <td>NaN</td>\n",
       "      <td>NaN</td>\n",
       "      <td>1.0</td>\n",
       "      <td>NaN</td>\n",
       "    </tr>\n",
       "    <tr>\n",
       "      <th>perception_of_corruption</th>\n",
       "      <td>NaN</td>\n",
       "      <td>NaN</td>\n",
       "      <td>NaN</td>\n",
       "      <td>NaN</td>\n",
       "      <td>NaN</td>\n",
       "      <td>NaN</td>\n",
       "      <td>NaN</td>\n",
       "      <td>NaN</td>\n",
       "      <td>NaN</td>\n",
       "      <td>1.0</td>\n",
       "    </tr>\n",
       "  </tbody>\n",
       "</table>\n",
       "</div>"
      ],
      "text/plain": [
       "                              happiness_score  whisker_high  whisker_low  \\\n",
       "happiness_score                      1.000000      0.999333     0.999383   \n",
       "whisker_high                         0.999333      1.000000     0.997434   \n",
       "whisker_low                          0.999383      0.997434     1.000000   \n",
       "dystopia_183_residual                     NaN           NaN          NaN   \n",
       "gdp_per_capita                       0.763677      0.752104     0.773844   \n",
       "social_support                       0.777889      0.773375     0.781302   \n",
       "healthy_life_expectancy              0.740260      0.727611     0.751530   \n",
       "freedom_to_make_life_choices              NaN           NaN          NaN   \n",
       "generosity                                NaN           NaN          NaN   \n",
       "perception_of_corruption                  NaN           NaN          NaN   \n",
       "\n",
       "                              dystopia_183_residual  gdp_per_capita  \\\n",
       "happiness_score                                 NaN        0.763677   \n",
       "whisker_high                                    NaN        0.752104   \n",
       "whisker_low                                     NaN        0.773844   \n",
       "dystopia_183_residual                           1.0             NaN   \n",
       "gdp_per_capita                                  NaN        1.000000   \n",
       "social_support                                  NaN        0.722421   \n",
       "healthy_life_expectancy                         NaN        0.815386   \n",
       "freedom_to_make_life_choices                    NaN             NaN   \n",
       "generosity                                      NaN             NaN   \n",
       "perception_of_corruption                        NaN             NaN   \n",
       "\n",
       "                              social_support  healthy_life_expectancy  \\\n",
       "happiness_score                     0.777889                 0.740260   \n",
       "whisker_high                        0.773375                 0.727611   \n",
       "whisker_low                         0.781302                 0.751530   \n",
       "dystopia_183_residual                    NaN                      NaN   \n",
       "gdp_per_capita                      0.722421                 0.815386   \n",
       "social_support                      1.000000                      NaN   \n",
       "healthy_life_expectancy                  NaN                 1.000000   \n",
       "freedom_to_make_life_choices             NaN                      NaN   \n",
       "generosity                               NaN                      NaN   \n",
       "perception_of_corruption                 NaN                      NaN   \n",
       "\n",
       "                              freedom_to_make_life_choices  generosity  \\\n",
       "happiness_score                                        NaN         NaN   \n",
       "whisker_high                                           NaN         NaN   \n",
       "whisker_low                                            NaN         NaN   \n",
       "dystopia_183_residual                                  NaN         NaN   \n",
       "gdp_per_capita                                         NaN         NaN   \n",
       "social_support                                         NaN         NaN   \n",
       "healthy_life_expectancy                                NaN         NaN   \n",
       "freedom_to_make_life_choices                           1.0         NaN   \n",
       "generosity                                             NaN         1.0   \n",
       "perception_of_corruption                               NaN         NaN   \n",
       "\n",
       "                              perception_of_corruption  \n",
       "happiness_score                                    NaN  \n",
       "whisker_high                                       NaN  \n",
       "whisker_low                                        NaN  \n",
       "dystopia_183_residual                              NaN  \n",
       "gdp_per_capita                                     NaN  \n",
       "social_support                                     NaN  \n",
       "healthy_life_expectancy                            NaN  \n",
       "freedom_to_make_life_choices                       NaN  \n",
       "generosity                                         NaN  \n",
       "perception_of_corruption                           1.0  "
      ]
     },
     "metadata": {},
     "output_type": "display_data"
    }
   ],
   "source": [
    "corr_df_interesting = corr_df.where(abs(corr_df) > 0.7)\n",
    "display(corr_df_interesting)"
   ]
  },
  {
   "cell_type": "code",
   "execution_count": 21,
   "id": "972f3a22",
   "metadata": {},
   "outputs": [],
   "source": [
    "test_df = df.select('country','happiness_score').toPandas()"
   ]
  },
  {
   "cell_type": "code",
   "execution_count": 22,
   "id": "eda33efc",
   "metadata": {},
   "outputs": [
    {
     "data": {
      "text/plain": [
       "pandas.core.frame.DataFrame"
      ]
     },
     "execution_count": 22,
     "metadata": {},
     "output_type": "execute_result"
    }
   ],
   "source": [
    "type(test_df)"
   ]
  },
  {
   "cell_type": "code",
   "execution_count": 23,
   "id": "f3055df6",
   "metadata": {},
   "outputs": [
    {
     "data": {
      "image/png": "[encoded data removed]",
      "text/plain": [
       "<Figure size 1080x1800 with 2 Axes>"
      ]
     },
     "metadata": {
      "needs_background": "light"
     },
     "output_type": "display_data"
    }
   ],
   "source": [
    "import geopandas as gpd\n",
    "import matplotlib.pyplot as plt\n",
    "import pandas as pd\n",
    "import numpy as np\n",
    "\n",
    "# Load the world map shapefile\n",
    "world = gpd.read_file(gpd.datasets.get_path('naturalearth_lowres'))\n",
    "\n",
    "# Create a list of countries\n",
    "# countries = ['United States', 'Canada', 'Mexico', 'Brazil', 'Argentina']\n",
    "\n",
    "# Generate artificial happiness scores for each country\n",
    "# scores = pd.DataFrame({'Country': countries, 'Happiness Score': np.random.rand(len(countries))})\n",
    "\n",
    "scores = test_df = df.select('country','happiness_score').toPandas()\n",
    "\n",
    "# Merge the world map with the happiness scores data\n",
    "world = world.merge(scores, left_on='name', right_on='country')\n",
    "\n",
    "# Define the color map for the happiness scores\n",
    "cmap = 'Reds'\n",
    "\n",
    "# Plot the map with happiness scores as colors\n",
    "fig, ax = plt.subplots(figsize=(15,25))\n",
    "ax.set_aspect('equal')\n",
    "world.plot(\n",
    "    ax=ax,\n",
    "    column='happiness_score',\n",
    "    cmap=cmap\n",
    ")\n",
    "# Create a separate axis for the colorbar\n",
    "cax = fig.add_axes([1, 0.35, 0.05, 0.3])\n",
    "sm = plt.cm.ScalarMappable(cmap=cmap, norm=plt.Normalize(vmin=world['happiness_score'].min(), vmax=world['happiness_score'].max()))\n",
    "sm._A = []\n",
    "fig.colorbar(sm, cax=cax)\n",
    "plt.show()\n"
   ]
  },
  {
   "cell_type": "markdown",
   "id": "f4f6d0e5",
   "metadata": {},
   "source": [
    "Notice this map isn't super useful. Let's take a look an alternative map. "
   ]
  },
  {
   "cell_type": "code",
   "execution_count": 24,
   "id": "58d50377",
   "metadata": {},
   "outputs": [],
   "source": [
    "#convert country column to a list\n",
    "list_ex = test_df['country'].tolist()\n",
    "list_ex = [c.replace('*','') for c in list_ex]"
   ]
  },
  {
   "cell_type": "code",
   "execution_count": 27,
   "id": "347a11ab",
   "metadata": {},
   "outputs": [],
   "source": [
    "# List of all countries\n",
    "all_countries = list_ex\n",
    "\n",
    "# List of countries to remove - these are countries that don't match the country dictionary\n",
    "countries_to_remove = ['Kosovo', 'North Cyprus', 'Palestinian Territories','Eswatini. Kingdom of']\n",
    "\n",
    "# Create a new list that contains only the countries that are not in the list of countries to remove\n",
    "countries = [country for country in all_countries if country not in countries_to_remove]\n"
   ]
  },
  {
   "cell_type": "code",
   "execution_count": 28,
   "id": "d01a62bc",
   "metadata": {},
   "outputs": [],
   "source": [
    "from geopy.geocoders import Nominatim\n",
    "\n",
    "# countries = list_ex\n",
    "geolocator = Nominatim(user_agent=\"my_app\",timeout = 100)\n",
    "\n",
    "#Get the locations\n",
    "locations = []\n",
    "for country in countries:\n",
    "    location = geolocator.geocode(country)\n",
    "    code = country_name_to_country_alpha2(country, cn_name_format=\"default\")\n",
    "    cn_continent = country_alpha2_to_continent_code(code)\n",
    "    if location is not None:\n",
    "        locations.append((country, location.latitude, location.longitude, code, cn_continent))"
   ]
  },
  {
   "cell_type": "code",
   "execution_count": 29,
   "id": "b37c58b2",
   "metadata": {},
   "outputs": [
    {
     "data": {
      "text/plain": [
       "[('Finland', 63.2467777, 25.9209164, 'FI', 'EU'),\n",
       " ('Denmark', 55.670249, 10.3333283, 'DK', 'EU'),\n",
       " ('Iceland', 64.9841821, -18.1059013, 'IS', 'EU'),\n",
       " ('Switzerland', 46.7985624, 8.2319736, 'CH', 'EU'),\n",
       " ('Netherlands', 52.2434979, 5.6343227, 'NL', 'EU'),\n",
       " ('Luxembourg', 49.8158683, 6.1296751, 'LU', 'EU'),\n",
       " ('Sweden', 59.6749712, 14.5208584, 'SE', 'EU'),\n",
       " ('Norway', 61.1529386, 8.7876653, 'NO', 'EU'),\n",
       " ('Israel', 30.8124247, 34.8594762, 'IL', 'AS'),\n",
       " ('New Zealand', -41.5000831, 172.8344077, 'NZ', 'OC'),\n",
       " ('Austria', 47.59397, 14.12456, 'AT', 'EU'),\n",
       " ('Australia', -24.7761086, 134.755, 'AU', 'OC'),\n",
       " ('Ireland', 52.865196, -7.9794599, 'IE', 'EU'),\n",
       " ('Germany', 51.1638175, 10.4478313, 'DE', 'EU'),\n",
       " ('Canada', 61.0666922, -107.991707, 'CA', 'NA'),\n",
       " ('United States', 39.7837304, -100.445882, 'US', 'NA'),\n",
       " ('United Kingdom', 54.7023545, -3.2765753, 'GB', 'EU'),\n",
       " ('Czechia', 49.7439047, 15.3381061, 'CZ', 'EU'),\n",
       " ('Belgium', 50.6402809, 4.6667145, 'BE', 'EU'),\n",
       " ('France', 46.603354, 1.8883335, 'FR', 'EU'),\n",
       " ('Bahrain', 26.1551249, 50.5344606, 'BH', 'AS'),\n",
       " ('Slovenia', 46.1199444, 14.8153333, 'SI', 'EU'),\n",
       " ('Costa Rica', 10.2735633, -84.0739102, 'CR', 'NA'),\n",
       " ('United Arab Emirates', 24.0002488, 53.9994829, 'AE', 'AS'),\n",
       " ('Saudi Arabia', 25.6242618, 42.3528328, 'SA', 'AS'),\n",
       " ('Taiwan', 23.9739374, 120.9820179, 'TW', 'AS'),\n",
       " ('Singapore', 1.357107, 103.8194992, 'SG', 'AS'),\n",
       " ('Romania', 45.9852129, 24.6859225, 'RO', 'EU'),\n",
       " ('Spain', 39.3260685, -4.8379791, 'ES', 'EU'),\n",
       " ('Uruguay', -32.8755548, -56.0201525, 'UY', 'SA'),\n",
       " ('Italy', 42.6384261, 12.674297, 'IT', 'EU'),\n",
       " ('Malta', 35.8885993, 14.4476911, 'MT', 'EU'),\n",
       " ('Lithuania', 55.3500003, 23.7499997, 'LT', 'EU'),\n",
       " ('Slovakia', 48.7411522, 19.4528646, 'SK', 'EU'),\n",
       " ('Estonia', 58.7523778, 25.3319078, 'EE', 'EU'),\n",
       " ('Panama', 8.559559, -81.1308434, 'PA', 'NA'),\n",
       " ('Brazil', -10.3333333, -53.2, 'BR', 'SA'),\n",
       " ('Guatemala', 15.5855545, -90.345759, 'GT', 'NA'),\n",
       " ('Kazakhstan', 48.1012954, 66.7780818, 'KZ', 'AS'),\n",
       " ('Cyprus', 34.9823018, 33.1451285, 'CY', 'AS'),\n",
       " ('Latvia', 56.8406494, 24.7537645, 'LV', 'EU'),\n",
       " ('Serbia', 44.1534121, 20.55144, 'RS', 'EU'),\n",
       " ('Chile', -31.7613365, -71.3187697, 'CL', 'SA'),\n",
       " ('Nicaragua', 12.6090157, -85.2936911, 'NI', 'NA'),\n",
       " ('Mexico', 23.6585116, -102.0077097, 'MX', 'NA'),\n",
       " ('Croatia', 45.3658443, 15.6575209, 'HR', 'EU'),\n",
       " ('Poland', 52.215933, 19.134422, 'PL', 'EU'),\n",
       " ('El Salvador', 13.8000382, -88.9140683, 'SV', 'NA'),\n",
       " ('Kuwait', 29.2733964, 47.4979476, 'KW', 'AS'),\n",
       " ('Hungary', 47.1817585, 19.5060937, 'HU', 'EU'),\n",
       " ('Mauritius', -20.2759451, 57.5703566, 'MU', 'AF'),\n",
       " ('Uzbekistan', 41.32373, 63.9528098, 'UZ', 'AS'),\n",
       " ('Japan', 36.5748441, 139.2394179, 'JP', 'AS'),\n",
       " ('Honduras', 15.2572432, -86.0755145, 'HN', 'NA'),\n",
       " ('Portugal', 39.6621648, -8.1353519, 'PT', 'EU'),\n",
       " ('Argentina', -34.9964963, -64.9672817, 'AR', 'SA'),\n",
       " ('Greece', 38.9953683, 21.9877132, 'GR', 'EU'),\n",
       " ('South Korea', 36.638392, 127.6961188, 'KR', 'AS'),\n",
       " ('Philippines', 12.7503486, 122.7312101, 'PH', 'AS'),\n",
       " ('Thailand', 14.8971921, 100.83273, 'TH', 'AS'),\n",
       " ('Moldova', 47.2879608, 28.5670941, 'MD', 'EU'),\n",
       " ('Jamaica', 18.1850507, -77.3947693, 'JM', 'NA'),\n",
       " ('Kyrgyzstan', 41.5089324, 74.724091, 'KG', 'AS'),\n",
       " ('Belarus', 53.4250605, 27.6971358, 'BY', 'EU'),\n",
       " ('Colombia', 4.099917, -72.9088133, 'CO', 'SA'),\n",
       " ('Bosnia and Herzegovina', 44.3053476, 17.5961467, 'BA', 'EU'),\n",
       " ('Mongolia', 46.8250388, 103.8499736, 'MN', 'AS'),\n",
       " ('Dominican Republic', 19.0974031, -70.3028026, 'DO', 'NA'),\n",
       " ('Malaysia', 4.5693754, 102.2656823, 'MY', 'AS'),\n",
       " ('Bolivia', -17.0568696, -64.9912286, 'BO', 'SA'),\n",
       " ('China', 35.000074, 104.999927, 'CN', 'AS'),\n",
       " ('Paraguay', -23.3165935, -58.1693445, 'PY', 'SA'),\n",
       " ('Peru', -6.8699697, -75.0458515, 'PE', 'SA'),\n",
       " ('Montenegro', 42.9868853, 19.5180992, 'ME', 'EU'),\n",
       " ('Ecuador', -1.3397668, -79.3666965, 'EC', 'SA'),\n",
       " ('Vietnam', 15.9266657, 107.9650855, 'VN', 'AS'),\n",
       " ('Turkmenistan', 39.3763807, 59.3924609, 'TM', 'AS'),\n",
       " ('Russia', 64.6863136, 97.7453061, 'RU', 'EU'),\n",
       " ('Hong Kong', 22.2793278, 114.1628131, 'HK', 'AS'),\n",
       " ('Armenia', 40.7696272, 44.6736646, 'AM', 'AS'),\n",
       " ('Tajikistan', 38.6281733, 70.8156541, 'TJ', 'AS'),\n",
       " ('Nepal', 28.1083929, 84.0917139, 'NP', 'AS'),\n",
       " ('Bulgaria', 42.6073975, 25.4856617, 'BG', 'EU'),\n",
       " ('Libya', 26.8234472, 18.1236723, 'LY', 'AF'),\n",
       " ('Indonesia', -2.4833826, 117.8902853, 'ID', 'AS'),\n",
       " ('Ivory Coast', 7.9897371, -5.5679458, 'CI', 'AF'),\n",
       " ('North Macedonia', 41.6171214, 21.7168387, 'MK', 'EU'),\n",
       " ('Albania', 41.000028, 19.9999619, 'AL', 'EU'),\n",
       " ('South Africa', -28.8166236, 24.991639, 'ZA', 'AF'),\n",
       " ('Azerbaijan', 40.3936294, 47.7872508, 'AZ', 'AS'),\n",
       " ('Gambia', 13.470062, -15.4900464, 'GM', 'AF'),\n",
       " ('Bangladesh', 24.4769288, 90.2934413, 'BD', 'AS'),\n",
       " ('Laos', 20.0171109, 103.378253, 'LA', 'AS'),\n",
       " ('Algeria', 28.0000272, 2.9999825, 'DZ', 'AF'),\n",
       " ('Liberia', 5.7499721, -9.3658524, 'LR', 'AF'),\n",
       " ('Ukraine', 49.4871968, 31.2718321, 'UA', 'EU'),\n",
       " ('Congo', -2.9814344, 23.8222636, 'CG', 'AF'),\n",
       " ('Morocco', 31.1728205, -7.3362482, 'MA', 'AF'),\n",
       " ('Mozambique', -19.302233, 34.9144977, 'MZ', 'AF'),\n",
       " ('Cameroon', 4.6125522, 13.1535811, 'CM', 'AF'),\n",
       " ('Senegal', 14.4750607, -14.4529612, 'SN', 'AF'),\n",
       " ('Niger', 17.7356214, 9.3238432, 'NE', 'AF'),\n",
       " ('Georgia', 32.3293809, -83.1137366, 'GE', 'AS'),\n",
       " ('Gabon', -0.8999695, 11.6899699, 'GA', 'AF'),\n",
       " ('Iraq', 33.0955793, 44.1749775, 'IQ', 'AS'),\n",
       " ('Venezuela', 8.0018709, -66.1109318, 'VE', 'SA'),\n",
       " ('Guinea', 10.7226226, -10.7083587, 'GN', 'AF'),\n",
       " ('Iran', 32.6475314, 54.5643516, 'IR', 'AS'),\n",
       " ('Ghana', 8.0300284, -1.0800271, 'GH', 'AF'),\n",
       " ('Turkey', 38.9597594, 34.9249653, 'TR', 'AS'),\n",
       " ('Burkina Faso', 12.0753083, -1.6880314, 'BF', 'AF'),\n",
       " ('Cambodia', 12.5433216, 104.8144914, 'KH', 'AS'),\n",
       " ('Benin', 9.5293472, 2.2584408, 'BJ', 'AF'),\n",
       " ('Comoros', -12.2045176, 44.2832964, 'KM', 'AF'),\n",
       " ('Uganda', 1.5333554, 32.2166578, 'UG', 'AF'),\n",
       " ('Nigeria', 9.6000359, 7.9999721, 'NG', 'AF'),\n",
       " ('Kenya', 1.4419683, 38.4313975, 'KE', 'AF'),\n",
       " ('Tunisia', 33.8439408, 9.400138, 'TN', 'AF'),\n",
       " ('Pakistan', 30.3308401, 71.247499, 'PK', 'AS'),\n",
       " ('Mali', 16.3700359, -2.2900239, 'ML', 'AF'),\n",
       " ('Namibia', -23.2335499, 17.3231107, 'NA', 'AF'),\n",
       " ('Myanmar', 17.1750495, 95.9999652, 'MM', 'AS'),\n",
       " ('Sri Lanka', 7.877395849999999, 80.66247852355892, 'LK', 'AS'),\n",
       " ('Madagascar', -18.9249604, 46.4416422, 'MG', 'AF'),\n",
       " ('Egypt', 26.2540493, 29.2675469, 'EG', 'AF'),\n",
       " ('Chad', 15.6134137, 19.0156172, 'TD', 'AF'),\n",
       " ('Ethiopia', 10.2116702, 38.6521203, 'ET', 'AF'),\n",
       " ('Yemen', 16.3471243, 47.8915271, 'YE', 'AS'),\n",
       " ('Mauritania', 20.2540382, -9.2399263, 'MR', 'AF'),\n",
       " ('Jordan', 31.1667049, 36.941628, 'JO', 'AS'),\n",
       " ('Togo', 8.7800265, 1.0199765, 'TG', 'AF'),\n",
       " ('India', 22.3511148, 78.6677428, 'IN', 'AS'),\n",
       " ('Zambia', -14.5189121, 27.5589884, 'ZM', 'AF'),\n",
       " ('Malawi', -13.2687204, 33.9301963, 'MW', 'AF'),\n",
       " ('Tanzania', -6.5247123, 35.7878438, 'TZ', 'AF'),\n",
       " ('Sierra Leone', 8.6400349, -11.8400269, 'SL', 'AF'),\n",
       " ('Lesotho', -29.6039267, 28.3350193, 'LS', 'AF'),\n",
       " ('Botswana', -23.1681782, 24.5928742, 'BW', 'AF'),\n",
       " ('Rwanda', -1.9646631, 30.0644358, 'RW', 'AF'),\n",
       " ('Zimbabwe', -18.4554963, 29.7468414, 'ZW', 'AF'),\n",
       " ('Lebanon', 33.8750629, 35.843409, 'LB', 'AS'),\n",
       " ('Afghanistan', 33.7680065, 66.2385139, 'AF', 'AS')]"
      ]
     },
     "execution_count": 29,
     "metadata": {},
     "output_type": "execute_result"
    }
   ],
   "source": [
    "locations"
   ]
  },
  {
   "cell_type": "code",
   "execution_count": 30,
   "id": "da33b836",
   "metadata": {},
   "outputs": [
    {
     "data": {
      "text/html": [
       "<div>\n",
       "<style scoped>\n",
       "    .dataframe tbody tr th:only-of-type {\n",
       "        vertical-align: middle;\n",
       "    }\n",
       "\n",
       "    .dataframe tbody tr th {\n",
       "        vertical-align: top;\n",
       "    }\n",
       "\n",
       "    .dataframe thead th {\n",
       "        text-align: right;\n",
       "    }\n",
       "</style>\n",
       "<table border=\"1\" class=\"dataframe\">\n",
       "  <thead>\n",
       "    <tr style=\"text-align: right;\">\n",
       "      <th></th>\n",
       "      <th>country</th>\n",
       "      <th>latitude</th>\n",
       "      <th>longitude</th>\n",
       "      <th>code</th>\n",
       "      <th>continent</th>\n",
       "    </tr>\n",
       "  </thead>\n",
       "  <tbody>\n",
       "    <tr>\n",
       "      <th>0</th>\n",
       "      <td>Finland</td>\n",
       "      <td>63.246778</td>\n",
       "      <td>25.920916</td>\n",
       "      <td>FI</td>\n",
       "      <td>EU</td>\n",
       "    </tr>\n",
       "    <tr>\n",
       "      <th>1</th>\n",
       "      <td>Denmark</td>\n",
       "      <td>55.670249</td>\n",
       "      <td>10.333328</td>\n",
       "      <td>DK</td>\n",
       "      <td>EU</td>\n",
       "    </tr>\n",
       "    <tr>\n",
       "      <th>2</th>\n",
       "      <td>Iceland</td>\n",
       "      <td>64.984182</td>\n",
       "      <td>-18.105901</td>\n",
       "      <td>IS</td>\n",
       "      <td>EU</td>\n",
       "    </tr>\n",
       "    <tr>\n",
       "      <th>3</th>\n",
       "      <td>Switzerland</td>\n",
       "      <td>46.798562</td>\n",
       "      <td>8.231974</td>\n",
       "      <td>CH</td>\n",
       "      <td>EU</td>\n",
       "    </tr>\n",
       "    <tr>\n",
       "      <th>4</th>\n",
       "      <td>Netherlands</td>\n",
       "      <td>52.243498</td>\n",
       "      <td>5.634323</td>\n",
       "      <td>NL</td>\n",
       "      <td>EU</td>\n",
       "    </tr>\n",
       "    <tr>\n",
       "      <th>...</th>\n",
       "      <td>...</td>\n",
       "      <td>...</td>\n",
       "      <td>...</td>\n",
       "      <td>...</td>\n",
       "      <td>...</td>\n",
       "    </tr>\n",
       "    <tr>\n",
       "      <th>137</th>\n",
       "      <td>Botswana</td>\n",
       "      <td>-23.168178</td>\n",
       "      <td>24.592874</td>\n",
       "      <td>BW</td>\n",
       "      <td>AF</td>\n",
       "    </tr>\n",
       "    <tr>\n",
       "      <th>138</th>\n",
       "      <td>Rwanda</td>\n",
       "      <td>-1.964663</td>\n",
       "      <td>30.064436</td>\n",
       "      <td>RW</td>\n",
       "      <td>AF</td>\n",
       "    </tr>\n",
       "    <tr>\n",
       "      <th>139</th>\n",
       "      <td>Zimbabwe</td>\n",
       "      <td>-18.455496</td>\n",
       "      <td>29.746841</td>\n",
       "      <td>ZW</td>\n",
       "      <td>AF</td>\n",
       "    </tr>\n",
       "    <tr>\n",
       "      <th>140</th>\n",
       "      <td>Lebanon</td>\n",
       "      <td>33.875063</td>\n",
       "      <td>35.843409</td>\n",
       "      <td>LB</td>\n",
       "      <td>AS</td>\n",
       "    </tr>\n",
       "    <tr>\n",
       "      <th>141</th>\n",
       "      <td>Afghanistan</td>\n",
       "      <td>33.768006</td>\n",
       "      <td>66.238514</td>\n",
       "      <td>AF</td>\n",
       "      <td>AS</td>\n",
       "    </tr>\n",
       "  </tbody>\n",
       "</table>\n",
       "<p>142 rows × 5 columns</p>\n",
       "</div>"
      ],
      "text/plain": [
       "         country   latitude  longitude code continent\n",
       "0        Finland  63.246778  25.920916   FI        EU\n",
       "1        Denmark  55.670249  10.333328   DK        EU\n",
       "2        Iceland  64.984182 -18.105901   IS        EU\n",
       "3    Switzerland  46.798562   8.231974   CH        EU\n",
       "4    Netherlands  52.243498   5.634323   NL        EU\n",
       "..           ...        ...        ...  ...       ...\n",
       "137     Botswana -23.168178  24.592874   BW        AF\n",
       "138       Rwanda  -1.964663  30.064436   RW        AF\n",
       "139     Zimbabwe -18.455496  29.746841   ZW        AF\n",
       "140      Lebanon  33.875063  35.843409   LB        AS\n",
       "141  Afghanistan  33.768006  66.238514   AF        AS\n",
       "\n",
       "[142 rows x 5 columns]"
      ]
     },
     "execution_count": 30,
     "metadata": {},
     "output_type": "execute_result"
    }
   ],
   "source": [
    "#Create location dataframe\n",
    "locations_df = pd.DataFrame(locations, columns = ['country', 'latitude', 'longitude', 'code', 'continent'])\n",
    "locations_df"
   ]
  },
  {
   "cell_type": "code",
   "execution_count": 31,
   "id": "91f01c53",
   "metadata": {},
   "outputs": [],
   "source": [
    "#merge on country\n",
    "new_df = pd.merge(test_df, locations_df, on ='country', how ='inner')"
   ]
  },
  {
   "cell_type": "code",
   "execution_count": 32,
   "id": "da4ffda9",
   "metadata": {},
   "outputs": [
    {
     "data": {
      "text/html": [
       "<div>\n",
       "<style scoped>\n",
       "    .dataframe tbody tr th:only-of-type {\n",
       "        vertical-align: middle;\n",
       "    }\n",
       "\n",
       "    .dataframe tbody tr th {\n",
       "        vertical-align: top;\n",
       "    }\n",
       "\n",
       "    .dataframe thead th {\n",
       "        text-align: right;\n",
       "    }\n",
       "</style>\n",
       "<table border=\"1\" class=\"dataframe\">\n",
       "  <thead>\n",
       "    <tr style=\"text-align: right;\">\n",
       "      <th></th>\n",
       "      <th>country</th>\n",
       "      <th>happiness_score</th>\n",
       "      <th>latitude</th>\n",
       "      <th>longitude</th>\n",
       "      <th>code</th>\n",
       "      <th>continent</th>\n",
       "    </tr>\n",
       "  </thead>\n",
       "  <tbody>\n",
       "    <tr>\n",
       "      <th>0</th>\n",
       "      <td>Finland</td>\n",
       "      <td>7.821</td>\n",
       "      <td>63.246778</td>\n",
       "      <td>25.920916</td>\n",
       "      <td>FI</td>\n",
       "      <td>EU</td>\n",
       "    </tr>\n",
       "    <tr>\n",
       "      <th>1</th>\n",
       "      <td>Denmark</td>\n",
       "      <td>7.636</td>\n",
       "      <td>55.670249</td>\n",
       "      <td>10.333328</td>\n",
       "      <td>DK</td>\n",
       "      <td>EU</td>\n",
       "    </tr>\n",
       "    <tr>\n",
       "      <th>2</th>\n",
       "      <td>Iceland</td>\n",
       "      <td>7.557</td>\n",
       "      <td>64.984182</td>\n",
       "      <td>-18.105901</td>\n",
       "      <td>IS</td>\n",
       "      <td>EU</td>\n",
       "    </tr>\n",
       "    <tr>\n",
       "      <th>3</th>\n",
       "      <td>Switzerland</td>\n",
       "      <td>7.512</td>\n",
       "      <td>46.798562</td>\n",
       "      <td>8.231974</td>\n",
       "      <td>CH</td>\n",
       "      <td>EU</td>\n",
       "    </tr>\n",
       "    <tr>\n",
       "      <th>4</th>\n",
       "      <td>Netherlands</td>\n",
       "      <td>7.415</td>\n",
       "      <td>52.243498</td>\n",
       "      <td>5.634323</td>\n",
       "      <td>NL</td>\n",
       "      <td>EU</td>\n",
       "    </tr>\n",
       "    <tr>\n",
       "      <th>...</th>\n",
       "      <td>...</td>\n",
       "      <td>...</td>\n",
       "      <td>...</td>\n",
       "      <td>...</td>\n",
       "      <td>...</td>\n",
       "      <td>...</td>\n",
       "    </tr>\n",
       "    <tr>\n",
       "      <th>119</th>\n",
       "      <td>Tanzania</td>\n",
       "      <td>3.702</td>\n",
       "      <td>-6.524712</td>\n",
       "      <td>35.787844</td>\n",
       "      <td>TZ</td>\n",
       "      <td>AF</td>\n",
       "    </tr>\n",
       "    <tr>\n",
       "      <th>120</th>\n",
       "      <td>Sierra Leone</td>\n",
       "      <td>3.574</td>\n",
       "      <td>8.640035</td>\n",
       "      <td>-11.840027</td>\n",
       "      <td>SL</td>\n",
       "      <td>AF</td>\n",
       "    </tr>\n",
       "    <tr>\n",
       "      <th>121</th>\n",
       "      <td>Zimbabwe</td>\n",
       "      <td>2.995</td>\n",
       "      <td>-18.455496</td>\n",
       "      <td>29.746841</td>\n",
       "      <td>ZW</td>\n",
       "      <td>AF</td>\n",
       "    </tr>\n",
       "    <tr>\n",
       "      <th>122</th>\n",
       "      <td>Lebanon</td>\n",
       "      <td>2.955</td>\n",
       "      <td>33.875063</td>\n",
       "      <td>35.843409</td>\n",
       "      <td>LB</td>\n",
       "      <td>AS</td>\n",
       "    </tr>\n",
       "    <tr>\n",
       "      <th>123</th>\n",
       "      <td>Afghanistan</td>\n",
       "      <td>2.404</td>\n",
       "      <td>33.768006</td>\n",
       "      <td>66.238514</td>\n",
       "      <td>AF</td>\n",
       "      <td>AS</td>\n",
       "    </tr>\n",
       "  </tbody>\n",
       "</table>\n",
       "<p>124 rows × 6 columns</p>\n",
       "</div>"
      ],
      "text/plain": [
       "          country happiness_score   latitude  longitude code continent\n",
       "0         Finland           7.821  63.246778  25.920916   FI        EU\n",
       "1         Denmark           7.636  55.670249  10.333328   DK        EU\n",
       "2         Iceland           7.557  64.984182 -18.105901   IS        EU\n",
       "3     Switzerland           7.512  46.798562   8.231974   CH        EU\n",
       "4     Netherlands           7.415  52.243498   5.634323   NL        EU\n",
       "..            ...             ...        ...        ...  ...       ...\n",
       "119      Tanzania           3.702  -6.524712  35.787844   TZ        AF\n",
       "120  Sierra Leone           3.574   8.640035 -11.840027   SL        AF\n",
       "121      Zimbabwe           2.995 -18.455496  29.746841   ZW        AF\n",
       "122       Lebanon           2.955  33.875063  35.843409   LB        AS\n",
       "123   Afghanistan           2.404  33.768006  66.238514   AF        AS\n",
       "\n",
       "[124 rows x 6 columns]"
      ]
     },
     "execution_count": 32,
     "metadata": {},
     "output_type": "execute_result"
    }
   ],
   "source": [
    "new_df"
   ]
  },
  {
   "cell_type": "code",
   "execution_count": 33,
   "id": "d58180a5",
   "metadata": {},
   "outputs": [],
   "source": [
    "import folium\n",
    "from folium.plugins import MarkerCluster"
   ]
  },
  {
   "cell_type": "code",
   "execution_count": 34,
   "id": "8072505f",
   "metadata": {},
   "outputs": [],
   "source": [
    "world_map = folium.Map(tile = \"cartodbpositron\")"
   ]
  },
  {
   "cell_type": "code",
   "execution_count": 35,
   "id": "2c6a6adb",
   "metadata": {},
   "outputs": [],
   "source": [
    "marker_cluster = MarkerCluster().add_to(world_map)"
   ]
  },
  {
   "cell_type": "code",
   "execution_count": 38,
   "id": "8f7b1597",
   "metadata": {
    "scrolled": false
   },
   "outputs": [],
   "source": [
    "#for each coordinate, create circlemarker of user percent\n",
    "for i in range(len(new_df)):\n",
    "        lat = new_df.iloc[i]['latitude']\n",
    "        long = new_df.iloc[i]['longitude']\n",
    "        radius=5\n",
    "        popup_text = \"\"\"Country : {}<br>\n",
    "                    Happiness Score : {}<br>\"\"\"\n",
    "        popup_text = popup_text.format(new_df.iloc[i]['country'],\n",
    "                                   new_df.iloc[i]['happiness_score']\n",
    "                                   )\n",
    "        folium.CircleMarker(location = [lat, long], radius=radius, popup= popup_text, fill =True).add_to(marker_cluster)\n",
    "#show the map\n",
    "world_map.save('map.html')"
   ]
  },
  {
   "cell_type": "code",
   "execution_count": null,
   "id": "d4f26a5a",
   "metadata": {},
   "outputs": [],
   "source": []
  }
 ],
 "metadata": {
  "kernelspec": {
   "display_name": "Python 3 (ipykernel)",
   "language": "python",
   "name": "python3"
  },
  "language_info": {
   "codemirror_mode": {
    "name": "ipython",
    "version": 3
   },
   "file_extension": ".py",
   "mimetype": "text/x-python",
   "name": "python",
   "nbconvert_exporter": "python",
   "pygments_lexer": "ipython3",
   "version": "3.9.7"
  }
 },
 "nbformat": 4,
 "nbformat_minor": 5
}
